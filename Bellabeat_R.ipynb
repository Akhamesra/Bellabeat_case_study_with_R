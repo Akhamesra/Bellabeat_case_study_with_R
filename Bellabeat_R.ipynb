{
 "cells": [
  {
   "cell_type": "markdown",
   "id": "75cb7355",
   "metadata": {},
   "source": [
    "# Bellabeat Case Study\n",
    "Data Analysis method: Ask -> Prepare -> Process -> Analyze -> Share -> Act"
   ]
  },
  {
   "cell_type": "markdown",
   "id": "f1d479ec",
   "metadata": {},
   "source": [
    "## ASK\n"
   ]
  },
  {
   "cell_type": "markdown",
   "id": "b6fc8f99",
   "metadata": {},
   "source": [
    "#### The Business Task\n",
    "1) Analyze the data to understand the trends in smart device usage.  \n",
    "2) Make recommendations on how to modify device for better usage. \n",
    "#### Stakeholders\n",
    "* Primary: Bellabeat’s cofounder and Chief Creative Officer.  \n",
    "* Secondary: Bellabeat marketing analytics team and executive team.  "
   ]
  },
  {
   "cell_type": "markdown",
   "id": "786bd872",
   "metadata": {},
   "source": [
    "## Prepare   \n",
    "* FitBit Fitness Tracker Data: 30 eligible Fitbit users consented to the submission of personal tracker data, including minute-level output for physical activity, heart rate, and sleep monitoring.  \n",
    "* Data Source: Kaggle"
   ]
  },
  {
   "cell_type": "markdown",
   "id": "6851d4a3",
   "metadata": {},
   "source": [
    "## Process"
   ]
  },
  {
   "cell_type": "markdown",
   "id": "e916e9ec",
   "metadata": {},
   "source": [
    "**Load R packages and CSV files**"
   ]
  },
  {
   "cell_type": "code",
   "execution_count": 1,
   "id": "73ce4587",
   "metadata": {},
   "outputs": [
    {
     "name": "stdout",
     "output_type": "stream",
     "text": [
      "package 'lubridate' successfully unpacked and MD5 sums checked\n",
      "\n",
      "The downloaded binary packages are in\n",
      "\tC:\\Users\\asus\\AppData\\Local\\Temp\\Rtmpq4YJJk\\downloaded_packages\n"
     ]
    },
    {
     "name": "stderr",
     "output_type": "stream",
     "text": [
      "Registered S3 methods overwritten by 'ggplot2':\n",
      "  method         from \n",
      "  [.quosures     rlang\n",
      "  c.quosures     rlang\n",
      "  print.quosures rlang\n",
      "Registered S3 method overwritten by 'rvest':\n",
      "  method            from\n",
      "  read_xml.response xml2\n",
      "-- Attaching packages --------------------------------------- tidyverse 1.2.1 --\n",
      "v ggplot2 3.1.1       v purrr   0.3.2  \n",
      "v tibble  2.1.1       v dplyr   0.8.0.1\n",
      "v tidyr   0.8.3       v stringr 1.4.0  \n",
      "v readr   1.3.1       v forcats 0.4.0  \n",
      "-- Conflicts ------------------------------------------ tidyverse_conflicts() --\n",
      "x dplyr::filter() masks stats::filter()\n",
      "x dplyr::lag()    masks stats::lag()\n",
      "Warning message:\n",
      "\"package 'lubridate' was built under R version 3.6.3\"\n",
      "Attaching package: 'lubridate'\n",
      "\n",
      "The following objects are masked from 'package:dplyr':\n",
      "\n",
      "    intersect, setdiff, union\n",
      "\n",
      "The following objects are masked from 'package:base':\n",
      "\n",
      "    date, intersect, setdiff, union\n",
      "\n",
      "Parsed with column specification:\n",
      "cols(\n",
      "  Id = col_double(),\n",
      "  ActivityDate = col_character(),\n",
      "  TotalSteps = col_double(),\n",
      "  TotalDistance = col_double(),\n",
      "  TrackerDistance = col_double(),\n",
      "  LoggedActivitiesDistance = col_double(),\n",
      "  VeryActiveDistance = col_double(),\n",
      "  ModeratelyActiveDistance = col_double(),\n",
      "  LightActiveDistance = col_double(),\n",
      "  SedentaryActiveDistance = col_double(),\n",
      "  VeryActiveMinutes = col_double(),\n",
      "  FairlyActiveMinutes = col_double(),\n",
      "  LightlyActiveMinutes = col_double(),\n",
      "  SedentaryMinutes = col_double(),\n",
      "  Calories = col_double()\n",
      ")\n",
      "Parsed with column specification:\n",
      "cols(\n",
      "  Id = col_double(),\n",
      "  ActivityDay = col_character(),\n",
      "  Calories = col_double()\n",
      ")\n",
      "Parsed with column specification:\n",
      "cols(\n",
      "  Id = col_double(),\n",
      "  ActivityDay = col_character(),\n",
      "  SedentaryMinutes = col_double(),\n",
      "  LightlyActiveMinutes = col_double(),\n",
      "  FairlyActiveMinutes = col_double(),\n",
      "  VeryActiveMinutes = col_double(),\n",
      "  SedentaryActiveDistance = col_double(),\n",
      "  LightActiveDistance = col_double(),\n",
      "  ModeratelyActiveDistance = col_double(),\n",
      "  VeryActiveDistance = col_double()\n",
      ")\n",
      "Parsed with column specification:\n",
      "cols(\n",
      "  Id = col_double(),\n",
      "  ActivityDay = col_character(),\n",
      "  StepTotal = col_double()\n",
      ")\n",
      "Parsed with column specification:\n",
      "cols(\n",
      "  Id = col_double(),\n",
      "  SleepDay = col_character(),\n",
      "  TotalSleepRecords = col_double(),\n",
      "  TotalMinutesAsleep = col_double(),\n",
      "  TotalTimeInBed = col_double()\n",
      ")\n",
      "Parsed with column specification:\n",
      "cols(\n",
      "  Id = col_double(),\n",
      "  Date = col_character(),\n",
      "  WeightKg = col_double(),\n",
      "  WeightPounds = col_double(),\n",
      "  Fat = col_double(),\n",
      "  BMI = col_double(),\n",
      "  IsManualReport = col_logical(),\n",
      "  LogId = col_double()\n",
      ")\n"
     ]
    }
   ],
   "source": [
    "install.packages(\"lubridate\")\n",
    "\n",
    "library(tidyverse)\n",
    "library(lubridate)\n",
    "\n",
    "activity <- read_csv(\"Dataset/dailyActivity_merged.csv\")\n",
    "calories <- read_csv(\"Dataset/dailyCalories_merged.csv\")\n",
    "intensities <- read_csv(\"Dataset/dailyIntensities_merged.csv\")\n",
    "steps <- read_csv(\"Dataset/dailySteps_merged.csv\")\n",
    "sleep <- read_csv(\"Dataset/sleepDay_merged.csv\")\n",
    "weight <- read_csv(\"Dataset/weightLogInfo_merged.csv\")"
   ]
  },
  {
   "cell_type": "code",
   "execution_count": 2,
   "id": "a4fec581",
   "metadata": {},
   "outputs": [
    {
     "name": "stdout",
     "output_type": "stream",
     "text": [
      "Observations: 940\n",
      "Variables: 15\n",
      "$ Id                       <dbl> 1503960366, 1503960366, 1503960366, 150396...\n",
      "$ ActivityDate             <chr> \"4/12/2016\", \"4/13/2016\", \"4/14/2016\", \"4/...\n",
      "$ TotalSteps               <dbl> 13162, 10735, 10460, 9762, 12669, 9705, 13...\n",
      "$ TotalDistance            <dbl> 8.50, 6.97, 6.74, 6.28, 8.16, 6.48, 8.59, ...\n",
      "$ TrackerDistance          <dbl> 8.50, 6.97, 6.74, 6.28, 8.16, 6.48, 8.59, ...\n",
      "$ LoggedActivitiesDistance <dbl> 0, 0, 0, 0, 0, 0, 0, 0, 0, 0, 0, 0, 0, 0, ...\n",
      "$ VeryActiveDistance       <dbl> 1.88, 1.57, 2.44, 2.14, 2.71, 3.19, 3.25, ...\n",
      "$ ModeratelyActiveDistance <dbl> 0.55, 0.69, 0.40, 1.26, 0.41, 0.78, 0.64, ...\n",
      "$ LightActiveDistance      <dbl> 6.06, 4.71, 3.91, 2.83, 5.04, 2.51, 4.71, ...\n",
      "$ SedentaryActiveDistance  <dbl> 0, 0, 0, 0, 0, 0, 0, 0, 0, 0, 0, 0, 0, 0, ...\n",
      "$ VeryActiveMinutes        <dbl> 25, 21, 30, 29, 36, 38, 42, 50, 28, 19, 66...\n",
      "$ FairlyActiveMinutes      <dbl> 13, 19, 11, 34, 10, 20, 16, 31, 12, 8, 27,...\n",
      "$ LightlyActiveMinutes     <dbl> 328, 217, 181, 209, 221, 164, 233, 264, 20...\n",
      "$ SedentaryMinutes         <dbl> 728, 776, 1218, 726, 773, 539, 1149, 775, ...\n",
      "$ Calories                 <dbl> 1985, 1797, 1776, 1745, 1863, 1728, 1921, ...\n"
     ]
    }
   ],
   "source": [
    "glimpse(activity)"
   ]
  },
  {
   "cell_type": "code",
   "execution_count": 3,
   "id": "77a3e050",
   "metadata": {},
   "outputs": [
    {
     "data": {
      "text/html": [
       "33"
      ],
      "text/latex": [
       "33"
      ],
      "text/markdown": [
       "33"
      ],
      "text/plain": [
       "[1] 33"
      ]
     },
     "metadata": {},
     "output_type": "display_data"
    },
    {
     "data": {
      "text/html": [
       "33"
      ],
      "text/latex": [
       "33"
      ],
      "text/markdown": [
       "33"
      ],
      "text/plain": [
       "[1] 33"
      ]
     },
     "metadata": {},
     "output_type": "display_data"
    },
    {
     "data": {
      "text/html": [
       "24"
      ],
      "text/latex": [
       "24"
      ],
      "text/markdown": [
       "24"
      ],
      "text/plain": [
       "[1] 24"
      ]
     },
     "metadata": {},
     "output_type": "display_data"
    },
    {
     "data": {
      "text/html": [
       "8"
      ],
      "text/latex": [
       "8"
      ],
      "text/markdown": [
       "8"
      ],
      "text/plain": [
       "[1] 8"
      ]
     },
     "metadata": {},
     "output_type": "display_data"
    }
   ],
   "source": [
    "n_distinct(activity$Id)\n",
    "n_distinct(calories$Id)\n",
    "n_distinct(sleep$Id)\n",
    "n_distinct(weight$Id)"
   ]
  },
  {
   "cell_type": "markdown",
   "id": "397a9cc3",
   "metadata": {},
   "source": [
    "* Not Enough participant tracked their weight"
   ]
  },
  {
   "cell_type": "code",
   "execution_count": 4,
   "id": "fbbdfa45",
   "metadata": {},
   "outputs": [
    {
     "data": {
      "text/html": [
       "<table>\n",
       "<thead><tr><th scope=col>Id</th><th scope=col>ActivityDate</th><th scope=col>TotalSteps</th><th scope=col>TotalDistance</th><th scope=col>TrackerDistance</th><th scope=col>LoggedActivitiesDistance</th><th scope=col>VeryActiveDistance</th><th scope=col>ModeratelyActiveDistance</th><th scope=col>LightActiveDistance</th><th scope=col>SedentaryActiveDistance</th><th scope=col>VeryActiveMinutes</th><th scope=col>FairlyActiveMinutes</th><th scope=col>LightlyActiveMinutes</th><th scope=col>SedentaryMinutes</th><th scope=col>Calories</th></tr></thead>\n",
       "<tbody>\n",
       "\t<tr><td>1503960366</td><td>4/12/2016 </td><td>13162     </td><td>8.50      </td><td>8.50      </td><td>0         </td><td>1.88      </td><td>0.55      </td><td>6.06      </td><td>0         </td><td>25        </td><td>13        </td><td>328       </td><td> 728      </td><td>1985      </td></tr>\n",
       "\t<tr><td>1503960366</td><td>4/13/2016 </td><td>10735     </td><td>6.97      </td><td>6.97      </td><td>0         </td><td>1.57      </td><td>0.69      </td><td>4.71      </td><td>0         </td><td>21        </td><td>19        </td><td>217       </td><td> 776      </td><td>1797      </td></tr>\n",
       "\t<tr><td>1503960366</td><td>4/14/2016 </td><td>10460     </td><td>6.74      </td><td>6.74      </td><td>0         </td><td>2.44      </td><td>0.40      </td><td>3.91      </td><td>0         </td><td>30        </td><td>11        </td><td>181       </td><td>1218      </td><td>1776      </td></tr>\n",
       "\t<tr><td>1503960366</td><td>4/15/2016 </td><td> 9762     </td><td>6.28      </td><td>6.28      </td><td>0         </td><td>2.14      </td><td>1.26      </td><td>2.83      </td><td>0         </td><td>29        </td><td>34        </td><td>209       </td><td> 726      </td><td>1745      </td></tr>\n",
       "\t<tr><td>1503960366</td><td>4/16/2016 </td><td>12669     </td><td>8.16      </td><td>8.16      </td><td>0         </td><td>2.71      </td><td>0.41      </td><td>5.04      </td><td>0         </td><td>36        </td><td>10        </td><td>221       </td><td> 773      </td><td>1863      </td></tr>\n",
       "\t<tr><td>1503960366</td><td>4/17/2016 </td><td> 9705     </td><td>6.48      </td><td>6.48      </td><td>0         </td><td>3.19      </td><td>0.78      </td><td>2.51      </td><td>0         </td><td>38        </td><td>20        </td><td>164       </td><td> 539      </td><td>1728      </td></tr>\n",
       "</tbody>\n",
       "</table>\n"
      ],
      "text/latex": [
       "\\begin{tabular}{r|lllllllllllllll}\n",
       " Id & ActivityDate & TotalSteps & TotalDistance & TrackerDistance & LoggedActivitiesDistance & VeryActiveDistance & ModeratelyActiveDistance & LightActiveDistance & SedentaryActiveDistance & VeryActiveMinutes & FairlyActiveMinutes & LightlyActiveMinutes & SedentaryMinutes & Calories\\\\\n",
       "\\hline\n",
       "\t 1503960366 & 4/12/2016  & 13162      & 8.50       & 8.50       & 0          & 1.88       & 0.55       & 6.06       & 0          & 25         & 13         & 328        &  728       & 1985      \\\\\n",
       "\t 1503960366 & 4/13/2016  & 10735      & 6.97       & 6.97       & 0          & 1.57       & 0.69       & 4.71       & 0          & 21         & 19         & 217        &  776       & 1797      \\\\\n",
       "\t 1503960366 & 4/14/2016  & 10460      & 6.74       & 6.74       & 0          & 2.44       & 0.40       & 3.91       & 0          & 30         & 11         & 181        & 1218       & 1776      \\\\\n",
       "\t 1503960366 & 4/15/2016  &  9762      & 6.28       & 6.28       & 0          & 2.14       & 1.26       & 2.83       & 0          & 29         & 34         & 209        &  726       & 1745      \\\\\n",
       "\t 1503960366 & 4/16/2016  & 12669      & 8.16       & 8.16       & 0          & 2.71       & 0.41       & 5.04       & 0          & 36         & 10         & 221        &  773       & 1863      \\\\\n",
       "\t 1503960366 & 4/17/2016  &  9705      & 6.48       & 6.48       & 0          & 3.19       & 0.78       & 2.51       & 0          & 38         & 20         & 164        &  539       & 1728      \\\\\n",
       "\\end{tabular}\n"
      ],
      "text/markdown": [
       "\n",
       "| Id | ActivityDate | TotalSteps | TotalDistance | TrackerDistance | LoggedActivitiesDistance | VeryActiveDistance | ModeratelyActiveDistance | LightActiveDistance | SedentaryActiveDistance | VeryActiveMinutes | FairlyActiveMinutes | LightlyActiveMinutes | SedentaryMinutes | Calories |\n",
       "|---|---|---|---|---|---|---|---|---|---|---|---|---|---|---|\n",
       "| 1503960366 | 4/12/2016  | 13162      | 8.50       | 8.50       | 0          | 1.88       | 0.55       | 6.06       | 0          | 25         | 13         | 328        |  728       | 1985       |\n",
       "| 1503960366 | 4/13/2016  | 10735      | 6.97       | 6.97       | 0          | 1.57       | 0.69       | 4.71       | 0          | 21         | 19         | 217        |  776       | 1797       |\n",
       "| 1503960366 | 4/14/2016  | 10460      | 6.74       | 6.74       | 0          | 2.44       | 0.40       | 3.91       | 0          | 30         | 11         | 181        | 1218       | 1776       |\n",
       "| 1503960366 | 4/15/2016  |  9762      | 6.28       | 6.28       | 0          | 2.14       | 1.26       | 2.83       | 0          | 29         | 34         | 209        |  726       | 1745       |\n",
       "| 1503960366 | 4/16/2016  | 12669      | 8.16       | 8.16       | 0          | 2.71       | 0.41       | 5.04       | 0          | 36         | 10         | 221        |  773       | 1863       |\n",
       "| 1503960366 | 4/17/2016  |  9705      | 6.48       | 6.48       | 0          | 3.19       | 0.78       | 2.51       | 0          | 38         | 20         | 164        |  539       | 1728       |\n",
       "\n"
      ],
      "text/plain": [
       "  Id         ActivityDate TotalSteps TotalDistance TrackerDistance\n",
       "1 1503960366 4/12/2016    13162      8.50          8.50           \n",
       "2 1503960366 4/13/2016    10735      6.97          6.97           \n",
       "3 1503960366 4/14/2016    10460      6.74          6.74           \n",
       "4 1503960366 4/15/2016     9762      6.28          6.28           \n",
       "5 1503960366 4/16/2016    12669      8.16          8.16           \n",
       "6 1503960366 4/17/2016     9705      6.48          6.48           \n",
       "  LoggedActivitiesDistance VeryActiveDistance ModeratelyActiveDistance\n",
       "1 0                        1.88               0.55                    \n",
       "2 0                        1.57               0.69                    \n",
       "3 0                        2.44               0.40                    \n",
       "4 0                        2.14               1.26                    \n",
       "5 0                        2.71               0.41                    \n",
       "6 0                        3.19               0.78                    \n",
       "  LightActiveDistance SedentaryActiveDistance VeryActiveMinutes\n",
       "1 6.06                0                       25               \n",
       "2 4.71                0                       21               \n",
       "3 3.91                0                       30               \n",
       "4 2.83                0                       29               \n",
       "5 5.04                0                       36               \n",
       "6 2.51                0                       38               \n",
       "  FairlyActiveMinutes LightlyActiveMinutes SedentaryMinutes Calories\n",
       "1 13                  328                   728             1985    \n",
       "2 19                  217                   776             1797    \n",
       "3 11                  181                  1218             1776    \n",
       "4 34                  209                   726             1745    \n",
       "5 10                  221                   773             1863    \n",
       "6 20                  164                   539             1728    "
      ]
     },
     "metadata": {},
     "output_type": "display_data"
    }
   ],
   "source": [
    "head(activity)"
   ]
  },
  {
   "cell_type": "markdown",
   "id": "8d164088",
   "metadata": {},
   "source": [
    "## Analyze"
   ]
  },
  {
   "cell_type": "markdown",
   "id": "ccdc9e9a",
   "metadata": {},
   "source": [
    "**Clean and Manipulate the Data**\n",
    "* Merge the data.\n",
    "* Change formate of Date column from character to Date type.\n",
    "* Create a new column with Weekdays.\n",
    "* Create a new column TotalActiveMinutes summing up all active minutes."
   ]
  },
  {
   "cell_type": "code",
   "execution_count": 5,
   "id": "cb0f7b26",
   "metadata": {},
   "outputs": [],
   "source": [
    "activity_w_calories<- merge(activity, calories, by = c(\"Id\",\"Calories\"))"
   ]
  },
  {
   "cell_type": "code",
   "execution_count": 6,
   "id": "88dd8178",
   "metadata": {},
   "outputs": [],
   "source": [
    "daily_merged <- merge(activity_w_calories, sleep, by = \"Id\", all = TRUE) %>% \n",
    "  drop_na() %>% \n",
    "  select(-SleepDay, -ActivityDay, -TrackerDistance) %>% \n",
    "  rename(Date = ActivityDate)"
   ]
  },
  {
   "cell_type": "code",
   "execution_count": 7,
   "id": "d9686def",
   "metadata": {},
   "outputs": [],
   "source": [
    "daily_merged$Date <- as.Date(daily_merged$Date, \"%m/%d/%Y\")"
   ]
  },
  {
   "cell_type": "code",
   "execution_count": 8,
   "id": "c63d6455",
   "metadata": {},
   "outputs": [],
   "source": [
    "daily_merged$Weekdays<- wday(daily_merged$Date, label = TRUE, abbr = FALSE)"
   ]
  },
  {
   "cell_type": "code",
   "execution_count": 9,
   "id": "289b4e91",
   "metadata": {},
   "outputs": [],
   "source": [
    "daily_merged <- daily_merged  %>% \n",
    "    mutate(TotalActiveMinutes = VeryActiveMinutes + FairlyActiveMinutes + LightlyActiveMinutes)"
   ]
  },
  {
   "cell_type": "code",
   "execution_count": 10,
   "id": "6801535b",
   "metadata": {},
   "outputs": [
    {
     "data": {
      "text/html": [
       "<table>\n",
       "<thead><tr><th scope=col>Id</th><th scope=col>Calories</th><th scope=col>Date</th><th scope=col>TotalSteps</th><th scope=col>TotalDistance</th><th scope=col>LoggedActivitiesDistance</th><th scope=col>VeryActiveDistance</th><th scope=col>ModeratelyActiveDistance</th><th scope=col>LightActiveDistance</th><th scope=col>SedentaryActiveDistance</th><th scope=col>VeryActiveMinutes</th><th scope=col>FairlyActiveMinutes</th><th scope=col>LightlyActiveMinutes</th><th scope=col>SedentaryMinutes</th><th scope=col>TotalSleepRecords</th><th scope=col>TotalMinutesAsleep</th><th scope=col>TotalTimeInBed</th><th scope=col>Weekdays</th><th scope=col>TotalActiveMinutes</th></tr></thead>\n",
       "<tbody>\n",
       "\t<tr><td>1503960366</td><td>1783      </td><td>2016-05-11</td><td>12770     </td><td>8.13      </td><td>0         </td><td>2.56      </td><td>1.01      </td><td>4.55      </td><td>0         </td><td>36        </td><td>23        </td><td>251       </td><td>669       </td><td>1         </td><td>327       </td><td>346       </td><td>Wednesday </td><td>310       </td></tr>\n",
       "\t<tr><td>1503960366</td><td>1783      </td><td>2016-05-11</td><td>12770     </td><td>8.13      </td><td>0         </td><td>2.56      </td><td>1.01      </td><td>4.55      </td><td>0         </td><td>36        </td><td>23        </td><td>251       </td><td>669       </td><td>2         </td><td>384       </td><td>407       </td><td>Wednesday </td><td>310       </td></tr>\n",
       "\t<tr><td>1503960366</td><td>1783      </td><td>2016-05-11</td><td>12770     </td><td>8.13      </td><td>0         </td><td>2.56      </td><td>1.01      </td><td>4.55      </td><td>0         </td><td>36        </td><td>23        </td><td>251       </td><td>669       </td><td>1         </td><td>412       </td><td>442       </td><td>Wednesday </td><td>310       </td></tr>\n",
       "\t<tr><td>1503960366</td><td>1783      </td><td>2016-05-11</td><td>12770     </td><td>8.13      </td><td>0         </td><td>2.56      </td><td>1.01      </td><td>4.55      </td><td>0         </td><td>36        </td><td>23        </td><td>251       </td><td>669       </td><td>2         </td><td>340       </td><td>367       </td><td>Wednesday </td><td>310       </td></tr>\n",
       "\t<tr><td>1503960366</td><td>1783      </td><td>2016-05-11</td><td>12770     </td><td>8.13      </td><td>0         </td><td>2.56      </td><td>1.01      </td><td>4.55      </td><td>0         </td><td>36        </td><td>23        </td><td>251       </td><td>669       </td><td>1         </td><td>700       </td><td>712       </td><td>Wednesday </td><td>310       </td></tr>\n",
       "\t<tr><td>1503960366</td><td>1783      </td><td>2016-05-11</td><td>12770     </td><td>8.13      </td><td>0         </td><td>2.56      </td><td>1.01      </td><td>4.55      </td><td>0         </td><td>36        </td><td>23        </td><td>251       </td><td>669       </td><td>1         </td><td>304       </td><td>320       </td><td>Wednesday </td><td>310       </td></tr>\n",
       "</tbody>\n",
       "</table>\n"
      ],
      "text/latex": [
       "\\begin{tabular}{r|lllllllllllllllllll}\n",
       " Id & Calories & Date & TotalSteps & TotalDistance & LoggedActivitiesDistance & VeryActiveDistance & ModeratelyActiveDistance & LightActiveDistance & SedentaryActiveDistance & VeryActiveMinutes & FairlyActiveMinutes & LightlyActiveMinutes & SedentaryMinutes & TotalSleepRecords & TotalMinutesAsleep & TotalTimeInBed & Weekdays & TotalActiveMinutes\\\\\n",
       "\\hline\n",
       "\t 1503960366 & 1783       & 2016-05-11 & 12770      & 8.13       & 0          & 2.56       & 1.01       & 4.55       & 0          & 36         & 23         & 251        & 669        & 1          & 327        & 346        & Wednesday  & 310       \\\\\n",
       "\t 1503960366 & 1783       & 2016-05-11 & 12770      & 8.13       & 0          & 2.56       & 1.01       & 4.55       & 0          & 36         & 23         & 251        & 669        & 2          & 384        & 407        & Wednesday  & 310       \\\\\n",
       "\t 1503960366 & 1783       & 2016-05-11 & 12770      & 8.13       & 0          & 2.56       & 1.01       & 4.55       & 0          & 36         & 23         & 251        & 669        & 1          & 412        & 442        & Wednesday  & 310       \\\\\n",
       "\t 1503960366 & 1783       & 2016-05-11 & 12770      & 8.13       & 0          & 2.56       & 1.01       & 4.55       & 0          & 36         & 23         & 251        & 669        & 2          & 340        & 367        & Wednesday  & 310       \\\\\n",
       "\t 1503960366 & 1783       & 2016-05-11 & 12770      & 8.13       & 0          & 2.56       & 1.01       & 4.55       & 0          & 36         & 23         & 251        & 669        & 1          & 700        & 712        & Wednesday  & 310       \\\\\n",
       "\t 1503960366 & 1783       & 2016-05-11 & 12770      & 8.13       & 0          & 2.56       & 1.01       & 4.55       & 0          & 36         & 23         & 251        & 669        & 1          & 304        & 320        & Wednesday  & 310       \\\\\n",
       "\\end{tabular}\n"
      ],
      "text/markdown": [
       "\n",
       "| Id | Calories | Date | TotalSteps | TotalDistance | LoggedActivitiesDistance | VeryActiveDistance | ModeratelyActiveDistance | LightActiveDistance | SedentaryActiveDistance | VeryActiveMinutes | FairlyActiveMinutes | LightlyActiveMinutes | SedentaryMinutes | TotalSleepRecords | TotalMinutesAsleep | TotalTimeInBed | Weekdays | TotalActiveMinutes |\n",
       "|---|---|---|---|---|---|---|---|---|---|---|---|---|---|---|---|---|---|---|\n",
       "| 1503960366 | 1783       | 2016-05-11 | 12770      | 8.13       | 0          | 2.56       | 1.01       | 4.55       | 0          | 36         | 23         | 251        | 669        | 1          | 327        | 346        | Wednesday  | 310        |\n",
       "| 1503960366 | 1783       | 2016-05-11 | 12770      | 8.13       | 0          | 2.56       | 1.01       | 4.55       | 0          | 36         | 23         | 251        | 669        | 2          | 384        | 407        | Wednesday  | 310        |\n",
       "| 1503960366 | 1783       | 2016-05-11 | 12770      | 8.13       | 0          | 2.56       | 1.01       | 4.55       | 0          | 36         | 23         | 251        | 669        | 1          | 412        | 442        | Wednesday  | 310        |\n",
       "| 1503960366 | 1783       | 2016-05-11 | 12770      | 8.13       | 0          | 2.56       | 1.01       | 4.55       | 0          | 36         | 23         | 251        | 669        | 2          | 340        | 367        | Wednesday  | 310        |\n",
       "| 1503960366 | 1783       | 2016-05-11 | 12770      | 8.13       | 0          | 2.56       | 1.01       | 4.55       | 0          | 36         | 23         | 251        | 669        | 1          | 700        | 712        | Wednesday  | 310        |\n",
       "| 1503960366 | 1783       | 2016-05-11 | 12770      | 8.13       | 0          | 2.56       | 1.01       | 4.55       | 0          | 36         | 23         | 251        | 669        | 1          | 304        | 320        | Wednesday  | 310        |\n",
       "\n"
      ],
      "text/plain": [
       "  Id         Calories Date       TotalSteps TotalDistance\n",
       "1 1503960366 1783     2016-05-11 12770      8.13         \n",
       "2 1503960366 1783     2016-05-11 12770      8.13         \n",
       "3 1503960366 1783     2016-05-11 12770      8.13         \n",
       "4 1503960366 1783     2016-05-11 12770      8.13         \n",
       "5 1503960366 1783     2016-05-11 12770      8.13         \n",
       "6 1503960366 1783     2016-05-11 12770      8.13         \n",
       "  LoggedActivitiesDistance VeryActiveDistance ModeratelyActiveDistance\n",
       "1 0                        2.56               1.01                    \n",
       "2 0                        2.56               1.01                    \n",
       "3 0                        2.56               1.01                    \n",
       "4 0                        2.56               1.01                    \n",
       "5 0                        2.56               1.01                    \n",
       "6 0                        2.56               1.01                    \n",
       "  LightActiveDistance SedentaryActiveDistance VeryActiveMinutes\n",
       "1 4.55                0                       36               \n",
       "2 4.55                0                       36               \n",
       "3 4.55                0                       36               \n",
       "4 4.55                0                       36               \n",
       "5 4.55                0                       36               \n",
       "6 4.55                0                       36               \n",
       "  FairlyActiveMinutes LightlyActiveMinutes SedentaryMinutes TotalSleepRecords\n",
       "1 23                  251                  669              1                \n",
       "2 23                  251                  669              2                \n",
       "3 23                  251                  669              1                \n",
       "4 23                  251                  669              2                \n",
       "5 23                  251                  669              1                \n",
       "6 23                  251                  669              1                \n",
       "  TotalMinutesAsleep TotalTimeInBed Weekdays  TotalActiveMinutes\n",
       "1 327                346            Wednesday 310               \n",
       "2 384                407            Wednesday 310               \n",
       "3 412                442            Wednesday 310               \n",
       "4 340                367            Wednesday 310               \n",
       "5 700                712            Wednesday 310               \n",
       "6 304                320            Wednesday 310               "
      ]
     },
     "metadata": {},
     "output_type": "display_data"
    }
   ],
   "source": [
    "head(daily_merged)"
   ]
  },
  {
   "cell_type": "code",
   "execution_count": 11,
   "id": "7f3fc4f6",
   "metadata": {},
   "outputs": [
    {
     "data": {
      "text/html": [
       "<ol class=list-inline>\n",
       "\t<li>'Id'</li>\n",
       "\t<li>'Calories'</li>\n",
       "\t<li>'Date'</li>\n",
       "\t<li>'TotalSteps'</li>\n",
       "\t<li>'TotalDistance'</li>\n",
       "\t<li>'LoggedActivitiesDistance'</li>\n",
       "\t<li>'VeryActiveDistance'</li>\n",
       "\t<li>'ModeratelyActiveDistance'</li>\n",
       "\t<li>'LightActiveDistance'</li>\n",
       "\t<li>'SedentaryActiveDistance'</li>\n",
       "\t<li>'VeryActiveMinutes'</li>\n",
       "\t<li>'FairlyActiveMinutes'</li>\n",
       "\t<li>'LightlyActiveMinutes'</li>\n",
       "\t<li>'SedentaryMinutes'</li>\n",
       "\t<li>'TotalSleepRecords'</li>\n",
       "\t<li>'TotalMinutesAsleep'</li>\n",
       "\t<li>'TotalTimeInBed'</li>\n",
       "\t<li>'Weekdays'</li>\n",
       "\t<li>'TotalActiveMinutes'</li>\n",
       "</ol>\n"
      ],
      "text/latex": [
       "\\begin{enumerate*}\n",
       "\\item 'Id'\n",
       "\\item 'Calories'\n",
       "\\item 'Date'\n",
       "\\item 'TotalSteps'\n",
       "\\item 'TotalDistance'\n",
       "\\item 'LoggedActivitiesDistance'\n",
       "\\item 'VeryActiveDistance'\n",
       "\\item 'ModeratelyActiveDistance'\n",
       "\\item 'LightActiveDistance'\n",
       "\\item 'SedentaryActiveDistance'\n",
       "\\item 'VeryActiveMinutes'\n",
       "\\item 'FairlyActiveMinutes'\n",
       "\\item 'LightlyActiveMinutes'\n",
       "\\item 'SedentaryMinutes'\n",
       "\\item 'TotalSleepRecords'\n",
       "\\item 'TotalMinutesAsleep'\n",
       "\\item 'TotalTimeInBed'\n",
       "\\item 'Weekdays'\n",
       "\\item 'TotalActiveMinutes'\n",
       "\\end{enumerate*}\n"
      ],
      "text/markdown": [
       "1. 'Id'\n",
       "2. 'Calories'\n",
       "3. 'Date'\n",
       "4. 'TotalSteps'\n",
       "5. 'TotalDistance'\n",
       "6. 'LoggedActivitiesDistance'\n",
       "7. 'VeryActiveDistance'\n",
       "8. 'ModeratelyActiveDistance'\n",
       "9. 'LightActiveDistance'\n",
       "10. 'SedentaryActiveDistance'\n",
       "11. 'VeryActiveMinutes'\n",
       "12. 'FairlyActiveMinutes'\n",
       "13. 'LightlyActiveMinutes'\n",
       "14. 'SedentaryMinutes'\n",
       "15. 'TotalSleepRecords'\n",
       "16. 'TotalMinutesAsleep'\n",
       "17. 'TotalTimeInBed'\n",
       "18. 'Weekdays'\n",
       "19. 'TotalActiveMinutes'\n",
       "\n",
       "\n"
      ],
      "text/plain": [
       " [1] \"Id\"                       \"Calories\"                \n",
       " [3] \"Date\"                     \"TotalSteps\"              \n",
       " [5] \"TotalDistance\"            \"LoggedActivitiesDistance\"\n",
       " [7] \"VeryActiveDistance\"       \"ModeratelyActiveDistance\"\n",
       " [9] \"LightActiveDistance\"      \"SedentaryActiveDistance\" \n",
       "[11] \"VeryActiveMinutes\"        \"FairlyActiveMinutes\"     \n",
       "[13] \"LightlyActiveMinutes\"     \"SedentaryMinutes\"        \n",
       "[15] \"TotalSleepRecords\"        \"TotalMinutesAsleep\"      \n",
       "[17] \"TotalTimeInBed\"           \"Weekdays\"                \n",
       "[19] \"TotalActiveMinutes\"      "
      ]
     },
     "metadata": {},
     "output_type": "display_data"
    }
   ],
   "source": [
    "colnames(daily_merged)"
   ]
  },
  {
   "cell_type": "markdown",
   "id": "ce59e54e",
   "metadata": {},
   "source": [
    "**Summary of daily_merged**"
   ]
  },
  {
   "cell_type": "code",
   "execution_count": 12,
   "id": "bfd3ad76",
   "metadata": {},
   "outputs": [
    {
     "data": {
      "text/plain": [
       "   TotalSteps      TotalDistance       Calories   \n",
       " Min.   :    0.0   Min.   : 0.000   Min.   :   0  \n",
       " 1st Qu.:   12.5   1st Qu.: 0.010   1st Qu.:1698  \n",
       " Median : 6530.0   Median : 4.530   Median :2018  \n",
       " Mean   : 6385.3   Mean   : 4.506   Mean   :2218  \n",
       " 3rd Qu.:10524.0   3rd Qu.: 7.380   3rd Qu.:2640  \n",
       " Max.   :22988.0   Max.   :17.950   Max.   :4900  "
      ]
     },
     "metadata": {},
     "output_type": "display_data"
    }
   ],
   "source": [
    "daily_merged  %>% \n",
    "    select(TotalSteps, TotalDistance, Calories)  %>% \n",
    "    summary()"
   ]
  },
  {
   "cell_type": "code",
   "execution_count": 13,
   "id": "457fe67b",
   "metadata": {},
   "outputs": [
    {
     "data": {
      "text/plain": [
       " VeryActiveMinutes FairlyActiveMinutes LightlyActiveMinutes SedentaryMinutes\n",
       " Min.   :  0.00    Min.   :  0.00      Min.   :  0.0        Min.   :   0.0  \n",
       " 1st Qu.:  0.00    1st Qu.:  0.00      1st Qu.:  0.0        1st Qu.: 687.0  \n",
       " Median :  0.00    Median :  4.00      Median :174.0        Median : 782.0  \n",
       " Mean   : 18.69    Mean   : 13.87      Mean   :157.2        Mean   : 936.9  \n",
       " 3rd Qu.: 28.00    3rd Qu.: 20.00      3rd Qu.:240.0        3rd Qu.:1440.0  \n",
       " Max.   :210.00    Max.   :143.00      Max.   :518.0        Max.   :1440.0  "
      ]
     },
     "metadata": {},
     "output_type": "display_data"
    },
    {
     "name": "stdout",
     "output_type": "stream",
     "text": [
      "[1] 0.8283708\n"
     ]
    }
   ],
   "source": [
    "daily_merged %>% \n",
    "    select(VeryActiveMinutes,FairlyActiveMinutes,LightlyActiveMinutes,SedentaryMinutes) %>% \n",
    "    summary()\n",
    "\n",
    "print(mean(daily_merged$LightlyActiveMinutes)/mean(daily_merged$TotalActiveMinutes))"
   ]
  },
  {
   "cell_type": "code",
   "execution_count": 14,
   "id": "55b27566",
   "metadata": {},
   "outputs": [
    {
     "data": {
      "text/plain": [
       " TotalMinutesAsleep TotalTimeInBed  TotalActiveMinutes\n",
       " Min.   : 58.0      Min.   : 61.0   Min.   :  0.0     \n",
       " 1st Qu.:359.0      1st Qu.:402.0   1st Qu.:  0.0     \n",
       " Median :427.0      Median :459.0   Median :227.0     \n",
       " Mean   :416.8      Mean   :455.7   Mean   :189.7     \n",
       " 3rd Qu.:490.0      3rd Qu.:527.0   3rd Qu.:296.0     \n",
       " Max.   :796.0      Max.   :961.0   Max.   :540.0     "
      ]
     },
     "metadata": {},
     "output_type": "display_data"
    }
   ],
   "source": [
    "daily_merged %>% \n",
    "    select(TotalMinutesAsleep,TotalTimeInBed,TotalActiveMinutes) %>% \n",
    "    summary()"
   ]
  },
  {
   "cell_type": "markdown",
   "id": "0c2bf6bc",
   "metadata": {},
   "source": [
    "**Key Findings**\n",
    "* Average steps taken were 6385.\n",
    "* Average distance were 4.5 miles.\n",
    "* Lightly Active Minutes took up 82.8% of all.\n"
   ]
  },
  {
   "cell_type": "markdown",
   "id": "ec01d345",
   "metadata": {},
   "source": [
    "## Share\n",
    "### Creating Visualizations"
   ]
  },
  {
   "cell_type": "code",
   "execution_count": 15,
   "id": "88bc5574",
   "metadata": {},
   "outputs": [
    {
     "data": {
      "image/png": "[encoded data removed]",
      "text/plain": [
       "plot without title"
      ]
     },
     "metadata": {},
     "output_type": "display_data"
    }
   ],
   "source": [
    "options(repr.plot.width = 8, repr.plot.height =4)\n",
    "ggplot(data = daily_merged, mapping = aes(x = TotalSteps, y =Calories, color = TotalActiveMinutes)) +\n",
    "  geom_point()"
   ]
  },
  {
   "cell_type": "markdown",
   "id": "a479fc22",
   "metadata": {},
   "source": [
    "* Positive relationshp between total steps and calories burned.\n",
    "* The data shows that even if there is Less total steps and less total active minutes then also we can see high calories burn, which can be due to other activites other then Walking"
   ]
  },
  {
   "cell_type": "code",
   "execution_count": 16,
   "id": "b5091b3f",
   "metadata": {},
   "outputs": [
    {
     "data": {
      "image/png": "[encoded data removed]",
      "text/plain": [
       "plot without title"
      ]
     },
     "metadata": {},
     "output_type": "display_data"
    }
   ],
   "source": [
    "average_very_active_minutes <- daily_merged %>% \n",
    "  group_by(Weekdays) %>% \n",
    "  summarise_at(vars(TotalMinutesAsleep),\n",
    "               list(TotalMinutesAsleep = mean))\n",
    "\n",
    "ggplot(average_very_active_minutes, aes(x=Weekdays,y=TotalMinutesAsleep, group=1))+\n",
    "  geom_line(color = \"red\")+\n",
    "  expand_limits(y = 350)+\n",
    "  geom_text(aes(label=round(TotalMinutesAsleep, digits=0), hjust=-0.5, vjust=0.5),size=3)"
   ]
  },
  {
   "cell_type": "markdown",
   "id": "c059bbfb",
   "metadata": {},
   "source": [
    "* The data shows that the total sleep time is equally distributed among all weekdays. The average sleep time is 416 minutes, which means on average, participants have adequate sleep"
   ]
  },
  {
   "cell_type": "code",
   "execution_count": 17,
   "id": "964fd312",
   "metadata": {},
   "outputs": [
    {
     "data": {
      "image/png": "[encoded data removed]",
      "text/plain": [
       "plot without title"
      ]
     },
     "metadata": {},
     "output_type": "display_data"
    }
   ],
   "source": [
    "average_very_active_minutes <- daily_merged %>% \n",
    "  group_by(Weekdays) %>% \n",
    "  summarise_at(vars(TotalActiveMinutes),\n",
    "               list(TotalActiveMinutes = mean))\n",
    "\n",
    "ggplot(average_very_active_minutes, aes(x=Weekdays,y=TotalActiveMinutes, group=1))+\n",
    "  geom_line(color = \"red\")+\n",
    "  geom_text(aes(label=round(TotalActiveMinutes, digits=0), hjust=-0.5, vjust=0.5),size=3)"
   ]
  },
  {
   "cell_type": "markdown",
   "id": "ce2ac338",
   "metadata": {},
   "source": [
    "* The data shows that on average, people are MOST active on Saturdays with 214 total active minutes and the LEAST active on Sundays with 152 total active minutes."
   ]
  },
  {
   "cell_type": "markdown",
   "id": "a505e7f8",
   "metadata": {},
   "source": [
    "## Act"
   ]
  },
  {
   "cell_type": "markdown",
   "id": "a4396bdc",
   "metadata": {},
   "source": [
    " #### Insights/Recommendations"
   ]
  },
  {
   "cell_type": "markdown",
   "id": "9771a8d2",
   "metadata": {},
   "source": [
    "1) Majority of the participants didn't track their weight this can be due to manually inputing the data everyday. It may be appealing to users if Bellabeat offered **auto tracking for their weight** to make the process easier.  \n",
    "  \n",
    "2) Average daily steps are 6385 which is less for having healthy benefit, around 8000 steps per day is considered healthy. Bellabeat may **encourage/promote people to walk and exercise** for their health.  \n",
    "  \n",
    "3) **Adding more catagoies to track the calories burn** would help people to understand their lifestyle.  \n",
    "  \n",
    "4) The average sedentary minutes are 936.9 minutes (15.6 hrs). **Adding reminder to stand and move** by notification or vibration."
   ]
  }
 ],
 "metadata": {
  "kernelspec": {
   "display_name": "R",
   "language": "R",
   "name": "ir"
  },
  "language_info": {
   "codemirror_mode": "r",
   "file_extension": ".r",
   "mimetype": "text/x-r-source",
   "name": "R",
   "pygments_lexer": "r",
   "version": "3.6.1"
  }
 },
 "nbformat": 4,
 "nbformat_minor": 5
}
